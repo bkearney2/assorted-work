{
 "cells": [
  {
   "cell_type": "code",
   "execution_count": 87,
   "metadata": {},
   "outputs": [],
   "source": [
    "# author: Brendan Kearney\n",
    "\n",
    "def dna_permutation(seq_len):\n",
    "    \n",
    "    list_DNA = [\"A\",\"G\",\"T\",\"C\"]\n",
    "    output = []\n",
    "    \n",
    "    # Iterate through all 1024 (for 5-length sequences of DNA) possible options\n",
    "    for i in range(pow(len(list_DNA),seq_len)):\n",
    "        \n",
    "        # Create string to be added to\n",
    "        str1 = \"\"\n",
    "        \n",
    "        # Go through each of 5 sequence letters separately\n",
    "        for j in range(seq_len):\n",
    "            \n",
    "            # Assign each iter of j to an increasing power of 4\n",
    "            pow_by_char = pow(4,j) \n",
    "            \n",
    "            # Divide all 1024 i indexes by these increasing powers, then round to nearest lower int\n",
    "            div_pows = int(i/pow_by_char)\n",
    "            \n",
    "            # Find remainder when divided by 4\n",
    "            rem_div_pows = div_pows % 4\n",
    "            \n",
    "            # Assign these DNA by remainder\n",
    "            indexed = list_DNA[rem_div_pows]\n",
    "            str1 = indexed + str1\n",
    "            \n",
    "        output.append(str1)\n",
    "    \n",
    "    return output"
   ]
  },
  {
   "cell_type": "code",
   "execution_count": 89,
   "metadata": {},
   "outputs": [
    {
     "name": "stdout",
     "output_type": "stream",
     "text": [
      "['AAAAA', 'AAAAG', 'AAAAT', 'AAAAC', 'AAAGA', 'AAAGG', 'AAAGT', 'AAAGC', 'AAATA', 'AAATG', 'AAATT', 'AAATC', 'AAACA', 'AAACG', 'AAACT', 'AAACC', 'AAGAA', 'AAGAG', 'AAGAT', 'AAGAC', 'AAGGA', 'AAGGG', 'AAGGT', 'AAGGC', 'AAGTA', 'AAGTG', 'AAGTT', 'AAGTC', 'AAGCA', 'AAGCG', 'AAGCT', 'AAGCC', 'AATAA', 'AATAG', 'AATAT', 'AATAC', 'AATGA', 'AATGG', 'AATGT', 'AATGC', 'AATTA', 'AATTG', 'AATTT', 'AATTC', 'AATCA', 'AATCG', 'AATCT', 'AATCC', 'AACAA', 'AACAG', 'AACAT', 'AACAC', 'AACGA', 'AACGG', 'AACGT', 'AACGC', 'AACTA', 'AACTG', 'AACTT', 'AACTC', 'AACCA', 'AACCG', 'AACCT', 'AACCC', 'AGAAA', 'AGAAG', 'AGAAT', 'AGAAC', 'AGAGA', 'AGAGG', 'AGAGT', 'AGAGC', 'AGATA', 'AGATG', 'AGATT', 'AGATC', 'AGACA', 'AGACG', 'AGACT', 'AGACC', 'AGGAA', 'AGGAG', 'AGGAT', 'AGGAC', 'AGGGA', 'AGGGG', 'AGGGT', 'AGGGC', 'AGGTA', 'AGGTG', 'AGGTT', 'AGGTC', 'AGGCA', 'AGGCG', 'AGGCT', 'AGGCC', 'AGTAA', 'AGTAG', 'AGTAT', 'AGTAC', 'AGTGA', 'AGTGG', 'AGTGT', 'AGTGC', 'AGTTA', 'AGTTG', 'AGTTT', 'AGTTC', 'AGTCA', 'AGTCG', 'AGTCT', 'AGTCC', 'AGCAA', 'AGCAG', 'AGCAT', 'AGCAC', 'AGCGA', 'AGCGG', 'AGCGT', 'AGCGC', 'AGCTA', 'AGCTG', 'AGCTT', 'AGCTC', 'AGCCA', 'AGCCG', 'AGCCT', 'AGCCC', 'ATAAA', 'ATAAG', 'ATAAT', 'ATAAC', 'ATAGA', 'ATAGG', 'ATAGT', 'ATAGC', 'ATATA', 'ATATG', 'ATATT', 'ATATC', 'ATACA', 'ATACG', 'ATACT', 'ATACC', 'ATGAA', 'ATGAG', 'ATGAT', 'ATGAC', 'ATGGA', 'ATGGG', 'ATGGT', 'ATGGC', 'ATGTA', 'ATGTG', 'ATGTT', 'ATGTC', 'ATGCA', 'ATGCG', 'ATGCT', 'ATGCC', 'ATTAA', 'ATTAG', 'ATTAT', 'ATTAC', 'ATTGA', 'ATTGG', 'ATTGT', 'ATTGC', 'ATTTA', 'ATTTG', 'ATTTT', 'ATTTC', 'ATTCA', 'ATTCG', 'ATTCT', 'ATTCC', 'ATCAA', 'ATCAG', 'ATCAT', 'ATCAC', 'ATCGA', 'ATCGG', 'ATCGT', 'ATCGC', 'ATCTA', 'ATCTG', 'ATCTT', 'ATCTC', 'ATCCA', 'ATCCG', 'ATCCT', 'ATCCC', 'ACAAA', 'ACAAG', 'ACAAT', 'ACAAC', 'ACAGA', 'ACAGG', 'ACAGT', 'ACAGC', 'ACATA', 'ACATG', 'ACATT', 'ACATC', 'ACACA', 'ACACG', 'ACACT', 'ACACC', 'ACGAA', 'ACGAG', 'ACGAT', 'ACGAC', 'ACGGA', 'ACGGG', 'ACGGT', 'ACGGC', 'ACGTA', 'ACGTG', 'ACGTT', 'ACGTC', 'ACGCA', 'ACGCG', 'ACGCT', 'ACGCC', 'ACTAA', 'ACTAG', 'ACTAT', 'ACTAC', 'ACTGA', 'ACTGG', 'ACTGT', 'ACTGC', 'ACTTA', 'ACTTG', 'ACTTT', 'ACTTC', 'ACTCA', 'ACTCG', 'ACTCT', 'ACTCC', 'ACCAA', 'ACCAG', 'ACCAT', 'ACCAC', 'ACCGA', 'ACCGG', 'ACCGT', 'ACCGC', 'ACCTA', 'ACCTG', 'ACCTT', 'ACCTC', 'ACCCA', 'ACCCG', 'ACCCT', 'ACCCC', 'GAAAA', 'GAAAG', 'GAAAT', 'GAAAC', 'GAAGA', 'GAAGG', 'GAAGT', 'GAAGC', 'GAATA', 'GAATG', 'GAATT', 'GAATC', 'GAACA', 'GAACG', 'GAACT', 'GAACC', 'GAGAA', 'GAGAG', 'GAGAT', 'GAGAC', 'GAGGA', 'GAGGG', 'GAGGT', 'GAGGC', 'GAGTA', 'GAGTG', 'GAGTT', 'GAGTC', 'GAGCA', 'GAGCG', 'GAGCT', 'GAGCC', 'GATAA', 'GATAG', 'GATAT', 'GATAC', 'GATGA', 'GATGG', 'GATGT', 'GATGC', 'GATTA', 'GATTG', 'GATTT', 'GATTC', 'GATCA', 'GATCG', 'GATCT', 'GATCC', 'GACAA', 'GACAG', 'GACAT', 'GACAC', 'GACGA', 'GACGG', 'GACGT', 'GACGC', 'GACTA', 'GACTG', 'GACTT', 'GACTC', 'GACCA', 'GACCG', 'GACCT', 'GACCC', 'GGAAA', 'GGAAG', 'GGAAT', 'GGAAC', 'GGAGA', 'GGAGG', 'GGAGT', 'GGAGC', 'GGATA', 'GGATG', 'GGATT', 'GGATC', 'GGACA', 'GGACG', 'GGACT', 'GGACC', 'GGGAA', 'GGGAG', 'GGGAT', 'GGGAC', 'GGGGA', 'GGGGG', 'GGGGT', 'GGGGC', 'GGGTA', 'GGGTG', 'GGGTT', 'GGGTC', 'GGGCA', 'GGGCG', 'GGGCT', 'GGGCC', 'GGTAA', 'GGTAG', 'GGTAT', 'GGTAC', 'GGTGA', 'GGTGG', 'GGTGT', 'GGTGC', 'GGTTA', 'GGTTG', 'GGTTT', 'GGTTC', 'GGTCA', 'GGTCG', 'GGTCT', 'GGTCC', 'GGCAA', 'GGCAG', 'GGCAT', 'GGCAC', 'GGCGA', 'GGCGG', 'GGCGT', 'GGCGC', 'GGCTA', 'GGCTG', 'GGCTT', 'GGCTC', 'GGCCA', 'GGCCG', 'GGCCT', 'GGCCC', 'GTAAA', 'GTAAG', 'GTAAT', 'GTAAC', 'GTAGA', 'GTAGG', 'GTAGT', 'GTAGC', 'GTATA', 'GTATG', 'GTATT', 'GTATC', 'GTACA', 'GTACG', 'GTACT', 'GTACC', 'GTGAA', 'GTGAG', 'GTGAT', 'GTGAC', 'GTGGA', 'GTGGG', 'GTGGT', 'GTGGC', 'GTGTA', 'GTGTG', 'GTGTT', 'GTGTC', 'GTGCA', 'GTGCG', 'GTGCT', 'GTGCC', 'GTTAA', 'GTTAG', 'GTTAT', 'GTTAC', 'GTTGA', 'GTTGG', 'GTTGT', 'GTTGC', 'GTTTA', 'GTTTG', 'GTTTT', 'GTTTC', 'GTTCA', 'GTTCG', 'GTTCT', 'GTTCC', 'GTCAA', 'GTCAG', 'GTCAT', 'GTCAC', 'GTCGA', 'GTCGG', 'GTCGT', 'GTCGC', 'GTCTA', 'GTCTG', 'GTCTT', 'GTCTC', 'GTCCA', 'GTCCG', 'GTCCT', 'GTCCC', 'GCAAA', 'GCAAG', 'GCAAT', 'GCAAC', 'GCAGA', 'GCAGG', 'GCAGT', 'GCAGC', 'GCATA', 'GCATG', 'GCATT', 'GCATC', 'GCACA', 'GCACG', 'GCACT', 'GCACC', 'GCGAA', 'GCGAG', 'GCGAT', 'GCGAC', 'GCGGA', 'GCGGG', 'GCGGT', 'GCGGC', 'GCGTA', 'GCGTG', 'GCGTT', 'GCGTC', 'GCGCA', 'GCGCG', 'GCGCT', 'GCGCC', 'GCTAA', 'GCTAG', 'GCTAT', 'GCTAC', 'GCTGA', 'GCTGG', 'GCTGT', 'GCTGC', 'GCTTA', 'GCTTG', 'GCTTT', 'GCTTC', 'GCTCA', 'GCTCG', 'GCTCT', 'GCTCC', 'GCCAA', 'GCCAG', 'GCCAT', 'GCCAC', 'GCCGA', 'GCCGG', 'GCCGT', 'GCCGC', 'GCCTA', 'GCCTG', 'GCCTT', 'GCCTC', 'GCCCA', 'GCCCG', 'GCCCT', 'GCCCC', 'TAAAA', 'TAAAG', 'TAAAT', 'TAAAC', 'TAAGA', 'TAAGG', 'TAAGT', 'TAAGC', 'TAATA', 'TAATG', 'TAATT', 'TAATC', 'TAACA', 'TAACG', 'TAACT', 'TAACC', 'TAGAA', 'TAGAG', 'TAGAT', 'TAGAC', 'TAGGA', 'TAGGG', 'TAGGT', 'TAGGC', 'TAGTA', 'TAGTG', 'TAGTT', 'TAGTC', 'TAGCA', 'TAGCG', 'TAGCT', 'TAGCC', 'TATAA', 'TATAG', 'TATAT', 'TATAC', 'TATGA', 'TATGG', 'TATGT', 'TATGC', 'TATTA', 'TATTG', 'TATTT', 'TATTC', 'TATCA', 'TATCG', 'TATCT', 'TATCC', 'TACAA', 'TACAG', 'TACAT', 'TACAC', 'TACGA', 'TACGG', 'TACGT', 'TACGC', 'TACTA', 'TACTG', 'TACTT', 'TACTC', 'TACCA', 'TACCG', 'TACCT', 'TACCC', 'TGAAA', 'TGAAG', 'TGAAT', 'TGAAC', 'TGAGA', 'TGAGG', 'TGAGT', 'TGAGC', 'TGATA', 'TGATG', 'TGATT', 'TGATC', 'TGACA', 'TGACG', 'TGACT', 'TGACC', 'TGGAA', 'TGGAG', 'TGGAT', 'TGGAC', 'TGGGA', 'TGGGG', 'TGGGT', 'TGGGC', 'TGGTA', 'TGGTG', 'TGGTT', 'TGGTC', 'TGGCA', 'TGGCG', 'TGGCT', 'TGGCC', 'TGTAA', 'TGTAG', 'TGTAT', 'TGTAC', 'TGTGA', 'TGTGG', 'TGTGT', 'TGTGC', 'TGTTA', 'TGTTG', 'TGTTT', 'TGTTC', 'TGTCA', 'TGTCG', 'TGTCT', 'TGTCC', 'TGCAA', 'TGCAG', 'TGCAT', 'TGCAC', 'TGCGA', 'TGCGG', 'TGCGT', 'TGCGC', 'TGCTA', 'TGCTG', 'TGCTT', 'TGCTC', 'TGCCA', 'TGCCG', 'TGCCT', 'TGCCC', 'TTAAA', 'TTAAG', 'TTAAT', 'TTAAC', 'TTAGA', 'TTAGG', 'TTAGT', 'TTAGC', 'TTATA', 'TTATG', 'TTATT', 'TTATC', 'TTACA', 'TTACG', 'TTACT', 'TTACC', 'TTGAA', 'TTGAG', 'TTGAT', 'TTGAC', 'TTGGA', 'TTGGG', 'TTGGT', 'TTGGC', 'TTGTA', 'TTGTG', 'TTGTT', 'TTGTC', 'TTGCA', 'TTGCG', 'TTGCT', 'TTGCC', 'TTTAA', 'TTTAG', 'TTTAT', 'TTTAC', 'TTTGA', 'TTTGG', 'TTTGT', 'TTTGC', 'TTTTA', 'TTTTG', 'TTTTT', 'TTTTC', 'TTTCA', 'TTTCG', 'TTTCT', 'TTTCC', 'TTCAA', 'TTCAG', 'TTCAT', 'TTCAC', 'TTCGA', 'TTCGG', 'TTCGT', 'TTCGC', 'TTCTA', 'TTCTG', 'TTCTT', 'TTCTC', 'TTCCA', 'TTCCG', 'TTCCT', 'TTCCC', 'TCAAA', 'TCAAG', 'TCAAT', 'TCAAC', 'TCAGA', 'TCAGG', 'TCAGT', 'TCAGC', 'TCATA', 'TCATG', 'TCATT', 'TCATC', 'TCACA', 'TCACG', 'TCACT', 'TCACC', 'TCGAA', 'TCGAG', 'TCGAT', 'TCGAC', 'TCGGA', 'TCGGG', 'TCGGT', 'TCGGC', 'TCGTA', 'TCGTG', 'TCGTT', 'TCGTC', 'TCGCA', 'TCGCG', 'TCGCT', 'TCGCC', 'TCTAA', 'TCTAG', 'TCTAT', 'TCTAC', 'TCTGA', 'TCTGG', 'TCTGT', 'TCTGC', 'TCTTA', 'TCTTG', 'TCTTT', 'TCTTC', 'TCTCA', 'TCTCG', 'TCTCT', 'TCTCC', 'TCCAA', 'TCCAG', 'TCCAT', 'TCCAC', 'TCCGA', 'TCCGG', 'TCCGT', 'TCCGC', 'TCCTA', 'TCCTG', 'TCCTT', 'TCCTC', 'TCCCA', 'TCCCG', 'TCCCT', 'TCCCC', 'CAAAA', 'CAAAG', 'CAAAT', 'CAAAC', 'CAAGA', 'CAAGG', 'CAAGT', 'CAAGC', 'CAATA', 'CAATG', 'CAATT', 'CAATC', 'CAACA', 'CAACG', 'CAACT', 'CAACC', 'CAGAA', 'CAGAG', 'CAGAT', 'CAGAC', 'CAGGA', 'CAGGG', 'CAGGT', 'CAGGC', 'CAGTA', 'CAGTG', 'CAGTT', 'CAGTC', 'CAGCA', 'CAGCG', 'CAGCT', 'CAGCC', 'CATAA', 'CATAG', 'CATAT', 'CATAC', 'CATGA', 'CATGG', 'CATGT', 'CATGC', 'CATTA', 'CATTG', 'CATTT', 'CATTC', 'CATCA', 'CATCG', 'CATCT', 'CATCC', 'CACAA', 'CACAG', 'CACAT', 'CACAC', 'CACGA', 'CACGG', 'CACGT', 'CACGC', 'CACTA', 'CACTG', 'CACTT', 'CACTC', 'CACCA', 'CACCG', 'CACCT', 'CACCC', 'CGAAA', 'CGAAG', 'CGAAT', 'CGAAC', 'CGAGA', 'CGAGG', 'CGAGT', 'CGAGC', 'CGATA', 'CGATG', 'CGATT', 'CGATC', 'CGACA', 'CGACG', 'CGACT', 'CGACC', 'CGGAA', 'CGGAG', 'CGGAT', 'CGGAC', 'CGGGA', 'CGGGG', 'CGGGT', 'CGGGC', 'CGGTA', 'CGGTG', 'CGGTT', 'CGGTC', 'CGGCA', 'CGGCG', 'CGGCT', 'CGGCC', 'CGTAA', 'CGTAG', 'CGTAT', 'CGTAC', 'CGTGA', 'CGTGG', 'CGTGT', 'CGTGC', 'CGTTA', 'CGTTG', 'CGTTT', 'CGTTC', 'CGTCA', 'CGTCG', 'CGTCT', 'CGTCC', 'CGCAA', 'CGCAG', 'CGCAT', 'CGCAC', 'CGCGA', 'CGCGG', 'CGCGT', 'CGCGC', 'CGCTA', 'CGCTG', 'CGCTT', 'CGCTC', 'CGCCA', 'CGCCG', 'CGCCT', 'CGCCC', 'CTAAA', 'CTAAG', 'CTAAT', 'CTAAC', 'CTAGA', 'CTAGG', 'CTAGT', 'CTAGC', 'CTATA', 'CTATG', 'CTATT', 'CTATC', 'CTACA', 'CTACG', 'CTACT', 'CTACC', 'CTGAA', 'CTGAG', 'CTGAT', 'CTGAC', 'CTGGA', 'CTGGG', 'CTGGT', 'CTGGC', 'CTGTA', 'CTGTG', 'CTGTT', 'CTGTC', 'CTGCA', 'CTGCG', 'CTGCT', 'CTGCC', 'CTTAA', 'CTTAG', 'CTTAT', 'CTTAC', 'CTTGA', 'CTTGG', 'CTTGT', 'CTTGC', 'CTTTA', 'CTTTG', 'CTTTT', 'CTTTC', 'CTTCA', 'CTTCG', 'CTTCT', 'CTTCC', 'CTCAA', 'CTCAG', 'CTCAT', 'CTCAC', 'CTCGA', 'CTCGG', 'CTCGT', 'CTCGC', 'CTCTA', 'CTCTG', 'CTCTT', 'CTCTC', 'CTCCA', 'CTCCG', 'CTCCT', 'CTCCC', 'CCAAA', 'CCAAG', 'CCAAT', 'CCAAC', 'CCAGA', 'CCAGG', 'CCAGT', 'CCAGC', 'CCATA', 'CCATG', 'CCATT', 'CCATC', 'CCACA', 'CCACG', 'CCACT', 'CCACC', 'CCGAA', 'CCGAG', 'CCGAT', 'CCGAC', 'CCGGA', 'CCGGG', 'CCGGT', 'CCGGC', 'CCGTA', 'CCGTG', 'CCGTT', 'CCGTC', 'CCGCA', 'CCGCG', 'CCGCT', 'CCGCC', 'CCTAA', 'CCTAG', 'CCTAT', 'CCTAC', 'CCTGA', 'CCTGG', 'CCTGT', 'CCTGC', 'CCTTA', 'CCTTG', 'CCTTT', 'CCTTC', 'CCTCA', 'CCTCG', 'CCTCT', 'CCTCC', 'CCCAA', 'CCCAG', 'CCCAT', 'CCCAC', 'CCCGA', 'CCCGG', 'CCCGT', 'CCCGC', 'CCCTA', 'CCCTG', 'CCCTT', 'CCCTC', 'CCCCA', 'CCCCG', 'CCCCT', 'CCCCC']\n"
     ]
    }
   ],
   "source": [
    "# Can change parameter to desired length of DNA sequences\n",
    "sequence_length = 5\n",
    "\n",
    "out_list = dna_permutation(sequence_length)\n",
    "print(out_list)\n"
   ]
  },
  {
   "cell_type": "code",
   "execution_count": null,
   "metadata": {},
   "outputs": [],
   "source": []
  }
 ],
 "metadata": {
  "kernelspec": {
   "display_name": "Python 3",
   "language": "python",
   "name": "python3"
  },
  "language_info": {
   "codemirror_mode": {
    "name": "ipython",
    "version": 3
   },
   "file_extension": ".py",
   "mimetype": "text/x-python",
   "name": "python",
   "nbconvert_exporter": "python",
   "pygments_lexer": "ipython3",
   "version": "3.7.3"
  }
 },
 "nbformat": 4,
 "nbformat_minor": 2
}
